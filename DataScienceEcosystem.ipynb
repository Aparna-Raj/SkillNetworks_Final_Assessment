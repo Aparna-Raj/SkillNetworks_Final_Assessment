{
 "cells": [
  {
   "cell_type": "markdown",
   "id": "724c06e0",
   "metadata": {},
   "source": [
    "# Data Science Tools and Ecosystem"
   ]
  },
  {
   "cell_type": "markdown",
   "id": "95d3e77f",
   "metadata": {},
   "source": [
    "In this notebook, Data Science Tools and Ecosystem are summarized."
   ]
  },
  {
   "cell_type": "markdown",
   "id": "b3c62f7c",
   "metadata": {},
   "source": [
    "**Objectives:**\n",
    " - List of Popular languages for Data Science\n",
    " - List of Open source tools for Data Science\n",
    " - List of Commercial tools for Data Science\n",
    " - List of Cloud Based tools for Data Science\n",
    " "
   ]
  },
  {
   "cell_type": "markdown",
   "id": "724612b7",
   "metadata": {},
   "source": [
    "Some of the popular languages that Data Scientists use are:\n",
    "   1. Python\n",
    "   2. R Programming\n",
    "   3. Julia\n",
    "   4. Java\n",
    "   5. Swift\n",
    "   6. Go\n",
    "   7. Scala"
   ]
  },
  {
   "cell_type": "markdown",
   "id": "2cd2c006",
   "metadata": {},
   "source": [
    "Some of the commonly used libraries used by Data Scientists include:\n",
    "   1. Pandas\n",
    "   2. Numpy\n",
    "   3. Scipy\n",
    "   4. Sklearn"
   ]
  },
  {
   "cell_type": "markdown",
   "id": "850afc85",
   "metadata": {},
   "source": [
    "|Data Science Tools|\n",
    "|-----|\n",
    "|Jupyter Notebook|\n",
    "|Jupyter Lite|\n",
    "|R studios|\n",
    "|Spyder|\n",
    "|Apache zeppenlin|"
   ]
  },
  {
   "cell_type": "markdown",
   "id": "c83bb2fb",
   "metadata": {},
   "source": [
    "### Below are a few examples of evaluating arithmetic expressions in Python"
   ]
  },
  {
   "cell_type": "code",
   "execution_count": 2,
   "id": "9c633866",
   "metadata": {},
   "outputs": [
    {
     "data": {
      "text/plain": [
       "17"
      ]
     },
     "execution_count": 2,
     "metadata": {},
     "output_type": "execute_result"
    }
   ],
   "source": [
    "# This a simple arithmetic expression to mutiply then add integers\n",
    "(3*4)+5"
   ]
  },
  {
   "cell_type": "code",
   "execution_count": 5,
   "id": "cb265dfe",
   "metadata": {},
   "outputs": [],
   "source": [
    "# This will convert 200 minutes to hours by diving by 60.\n",
    "minutes = 200\n",
    "hours = minutes/60"
   ]
  },
  {
   "cell_type": "markdown",
   "id": "ae2f0ac8",
   "metadata": {},
   "source": [
    "## Author\n",
    "Aparna"
   ]
  },
  {
   "cell_type": "code",
   "execution_count": null,
   "id": "7f7cbaf3",
   "metadata": {},
   "outputs": [],
   "source": []
  }
 ],
 "metadata": {
  "kernelspec": {
   "display_name": "Python 3",
   "language": "python",
   "name": "python3"
  },
  "language_info": {
   "codemirror_mode": {
    "name": "ipython",
    "version": 3
   },
   "file_extension": ".py",
   "mimetype": "text/x-python",
   "name": "python",
   "nbconvert_exporter": "python",
   "pygments_lexer": "ipython3",
   "version": "3.8.8"
  }
 },
 "nbformat": 4,
 "nbformat_minor": 5
}
